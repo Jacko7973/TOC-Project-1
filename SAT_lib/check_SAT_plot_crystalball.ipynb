{
  "nbformat": 4,
  "nbformat_minor": 0,
  "metadata": {
    "colab": {
      "provenance": []
    },
    "kernelspec": {
      "name": "python3",
      "display_name": "Python 3"
    },
    "language_info": {
      "name": "python"
    }
  },
  "cells": [
    {
      "cell_type": "markdown",
      "source": [
        "### SAT_plot_crystalball\n",
        "\n",
        "Jupyter notebook used to plot the runtimes of benchmarked SAT solvers for Theory of Computing Project01"
      ],
      "metadata": {
        "id": "zB_c_RRhoREo"
      }
    },
    {
      "cell_type": "code",
      "execution_count": null,
      "metadata": {
        "id": "syrlVlSBuuqB"
      },
      "outputs": [],
      "source": [
        "import math\n",
        "import csv\n",
        "import pandas as pd\n",
        "import numpy as np\n",
        "from matplotlib import pyplot as plt\n",
        "import scipy"
      ]
    },
    {
      "cell_type": "code",
      "source": [
        "plt.style.use(\"ggplot\")"
      ],
      "metadata": {
        "id": "3_mg4xTnu1qJ"
      },
      "execution_count": null,
      "outputs": []
    },
    {
      "cell_type": "code",
      "source": [
        "# data_file = input(\"Enter data file name: \")\n",
        "data = pd.read_csv(\"https://github.com/Jacko7973/TOC-Project-1-crystalball/raw/refs/heads/main/dpll/data/output_dpll_kSAT_data_crystalball.csv\")\n",
        "data.tail()"
      ],
      "metadata": {
        "id": "P-wEvpdHu4TN"
      },
      "execution_count": null,
      "outputs": []
    },
    {
      "cell_type": "code",
      "source": [
        "for kSAT in [3, 4]:\n",
        "  fig = plt.figure(figsize=(8, 8))\n",
        "  ax = plt.axes()\n",
        "\n",
        "  subdata = data.where(data[\"kSAT\"] == kSAT)\n",
        "  satisfiable = subdata.where(subdata[\"solution\"] == \"S\")\n",
        "  unsatisfiable = subdata.where(subdata[\"solution\"] == \"U\")\n",
        "  ax.scatter(satisfiable[\"vars\"], satisfiable[\"runtime\"], c=[(0.0, 1.0, 0.2)]*len(satisfiable), marker=\"o\", label=\"Satisfiable\")\n",
        "  ax.scatter(unsatisfiable[\"vars\"], unsatisfiable[\"runtime\"], c=[(1.0, 0.05, 0.0)]*len(unsatisfiable), marker=\"^\", label=\"Unsatisfiable\")\n",
        "\n",
        "\n",
        "  X = subdata[\"vars\"].dropna().unique()\n",
        "  Y = np.zeros(X.shape, dtype=float)\n",
        "  for i, x in enumerate(X):\n",
        "    Y[i] = subdata[\"runtime\"].where(subdata[\"vars\"] == x).max()\n",
        "\n",
        "  curve = np.polyfit(X, np.log(Y), 1)\n",
        "  # curve = np.polyfit(X, Y, 2)\n",
        "  x_line = np.linspace(X.min(), X.max() + 1, 100).reshape(-1, 1)\n",
        "  y_line = np.exp(curve[1]) * np.exp(curve[0]*x_line)\n",
        "  # y_line = np.add(curve[2], np.multiply(curve[1], x_line), np.multiply(curve[0], np.multiply(x_line, x_line)))\n",
        "  eqn = f\"Curve: y = e^{curve[1]:.2f} * e^({curve[0]:.2f}x)\"\n",
        "  # eqn = f\"Curve: y = {curve[2]:.2f} + {curve[1]:.2f}x + {curve[0]:.2f}x^2\"\n",
        "  ax.plot(x_line, y_line, color='blue', label=eqn)\n",
        "\n",
        "\n",
        "  ax.set_title(f\"{kSAT}-SAT {data.iloc[0]['name']} Runtime\")\n",
        "  ax.set_xlabel(\"Number of Variables\")\n",
        "  ax.set_ylabel(\"Runtime (Seconds)\")\n",
        "  ax.set_yscale(\"linear\")\n",
        "  ax.legend()\n",
        "\n",
        "  fig.tight_layout()\n",
        "\n",
        "  # plt.show()\n",
        "  plt.savefig(f\"plots_{kSAT}SAT_{data.iloc[0]['name']}_crystalball.png\")\n",
        "  plt.close(fig)"
      ],
      "metadata": {
        "id": "jnV-EnKwwrIq"
      },
      "execution_count": null,
      "outputs": []
    }
  ]
}